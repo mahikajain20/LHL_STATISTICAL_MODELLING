{
 "cells": [
  {
   "cell_type": "markdown",
   "metadata": {},
   "source": [
    "# CityBikes"
   ]
  },
  {
   "cell_type": "markdown",
   "metadata": {},
   "source": [
    "### Importing Packages"
   ]
  },
  {
   "cell_type": "code",
   "execution_count": null,
   "metadata": {},
   "outputs": [
    {
     "ename": "",
     "evalue": "",
     "output_type": "error",
     "traceback": [
      "\u001b[1;31mRunning cells with 'Python 3.11.9' requires the ipykernel package.\n",
      "\u001b[1;31mRun the following command to install 'ipykernel' into the Python environment. \n",
      "\u001b[1;31mCommand: '\"c:/Users/Mahika and Rutva/AppData/Local/Microsoft/WindowsApps/python3.11.exe\" -m pip install ipykernel -U --user --force-reinstall'"
     ]
    }
   ],
   "source": [
    "import requests\n",
    "import os"
   ]
  },
  {
   "cell_type": "code",
   "execution_count": null,
   "metadata": {},
   "outputs": [],
   "source": [
    "import pandas as pd\n",
    "import numpy as np\n",
    "import json\n",
    "import statsmodels.api as sm\n",
    "import matplotlib.pyplot as plt\n",
    "import seaborn as sns"
   ]
  },
  {
   "cell_type": "markdown",
   "metadata": {},
   "source": [
    "### Exploring the structure of the API and understanding the data returned from querying the API \n",
    "\n",
    "To do this, first I will pull data from the citybikes API and store the JSON file in a variable and use that to check if the response works. "
   ]
  },
  {
   "cell_type": "code",
   "execution_count": null,
   "metadata": {},
   "outputs": [],
   "source": [
    "url_one = 'http://api.citybik.es/v2/networks'\n",
    "bike_request = requests.get(url_one)\n",
    "bike_request"
   ]
  },
  {
   "cell_type": "code",
   "execution_count": null,
   "metadata": {},
   "outputs": [],
   "source": [
    "bike_request_json = bike_request.json()"
   ]
  },
  {
   "cell_type": "markdown",
   "metadata": {},
   "source": [
    "This JSON file is a list of nested dictionaires consisting of the companies responsible for bike rentals."
   ]
  },
  {
   "cell_type": "markdown",
   "metadata": {},
   "source": [
    "Send a request to CityBikes for the city of your choice. "
   ]
  },
  {
   "cell_type": "markdown",
   "metadata": {},
   "source": [
    "Now, I will loop through the JSON file to isolate the bike comapny for running the CityBikes program in Bhopal "
   ]
  },
  {
   "cell_type": "code",
   "execution_count": null,
   "metadata": {},
   "outputs": [],
   "source": [
    "bhopal_city_bike_companies = [] # create an empty list for city bike companies\n",
    "for i in range(len(bike_request_json['networks'])): #a for loop to iterate through the json file\n",
    "    if 'Bhopal' in bike_request_json['networks'][i]['location']['city']: #extracting the city for the company \n",
    "        bhopal_city_bike_companies.append(bike_request_json['networks'][i]['company']) #appending the company based in Bhopal to the list"
   ]
  },
  {
   "cell_type": "code",
   "execution_count": null,
   "metadata": {},
   "outputs": [],
   "source": [
    "bhopal_city_bike_companies"
   ]
  },
  {
   "cell_type": "markdown",
   "metadata": {},
   "source": [
    "There is only one network company in Bhopal that administers this city bikes program. Now, I will use the network ID I acquired from the request above to pull station data."
   ]
  },
  {
   "cell_type": "markdown",
   "metadata": {},
   "source": [
    "Parse through the response to get the details you want for the bike stations in that city (latitude, longitude, number of bikes). "
   ]
  },
  {
   "cell_type": "markdown",
   "metadata": {},
   "source": [
    "Now to pull station data for this specific company in Bhopal, I will create a new API request with this particular network ID I have acquired as the endpoint. \n",
    "\n",
    "The netword id for Bhopal is 'chartered-bike-bhopal'"
   ]
  },
  {
   "cell_type": "code",
   "execution_count": null,
   "metadata": {},
   "outputs": [],
   "source": [
    "url_two = 'http://api.citybik.es/v2/networks/chartered-bike-bhopal'\n",
    "station_request = requests.get(url_two)\n",
    "station_request"
   ]
  },
  {
   "cell_type": "code",
   "execution_count": null,
   "metadata": {},
   "outputs": [],
   "source": [
    "stations = station_request.json()"
   ]
  },
  {
   "cell_type": "code",
   "execution_count": null,
   "metadata": {},
   "outputs": [],
   "source": [
    "#To access the details, we parse the JSON file\n",
    "stations['network']['stations']"
   ]
  },
  {
   "cell_type": "markdown",
   "metadata": {},
   "source": [
    "Put your parsed results into a DataFrame."
   ]
  },
  {
   "cell_type": "markdown",
   "metadata": {},
   "source": [
    "First, to better understand the structure of the dataframe that will be created, I will use a singular entry to confirm the column names of the dataframe "
   ]
  },
  {
   "cell_type": "code",
   "execution_count": null,
   "metadata": {},
   "outputs": [],
   "source": [
    "stations['network']['stations'][5]"
   ]
  },
  {
   "cell_type": "code",
   "execution_count": null,
   "metadata": {},
   "outputs": [],
   "source": [
    "stations_list = []  #an empty list for stations\n",
    "for station in stations['network']['stations']: #a for loop to iterate through the json file\n",
    "   stations_data = {\n",
    "    'station_id': station['id'],\n",
    "    'station_name': station['name'],\n",
    "    'latitude': station['latitude'],\n",
    "    'longitude': station['longitude'],\n",
    "    'station_address': station['extra']['address'],\n",
    "    'empty_slots': station['empty_slots'],\n",
    "    'free_bikes': station['free_bikes'],\n",
    "    'e_bikes': station['extra']['ebikes'],\n",
    "    'timestamp': station['timestamp'],\n",
    "    'station_uid': station['extra']['uid'],\n",
    "    'station_number': station['extra']['number'],\n",
    "    'station_online_status': station['extra']['online']\n",
    "   }\n",
    "   stations_list.append(stations_data) #appending the data to the empty list\n",
    "\n",
    "#Dataframe\n",
    "stations_df = pd.DataFrame(stations_list)   #converting the list to a dataframe\n"
   ]
  },
  {
   "cell_type": "code",
   "execution_count": null,
   "metadata": {},
   "outputs": [],
   "source": [
    "stations_df.head()"
   ]
  },
  {
   "cell_type": "code",
   "execution_count": null,
   "metadata": {},
   "outputs": [],
   "source": [
    "stations_df.info()"
   ]
  },
  {
   "cell_type": "code",
   "execution_count": null,
   "metadata": {},
   "outputs": [],
   "source": [
    "stations_df['timestamp'] = pd.to_datetime(stations_df['timestamp']) #converting the timestamp to a datetime object\n",
    "stations_df['timestamp']"
   ]
  },
  {
   "cell_type": "code",
   "execution_count": null,
   "metadata": {},
   "outputs": [],
   "source": [
    "stations_df.describe()"
   ]
  },
  {
   "cell_type": "code",
   "execution_count": null,
   "metadata": {},
   "outputs": [],
   "source": [
    "stations_df['station_online_status'].value_counts()"
   ]
  },
  {
   "cell_type": "code",
   "execution_count": null,
   "metadata": {},
   "outputs": [],
   "source": [
    "#Check if all stations IDs are unique\n",
    "stations_df['station_id'].nunique()"
   ]
  },
  {
   "cell_type": "code",
   "execution_count": null,
   "metadata": {},
   "outputs": [],
   "source": []
  }
 ],
 "metadata": {
  "kernelspec": {
   "display_name": "Python 3",
   "language": "python",
   "name": "python3"
  },
  "language_info": {
   "codemirror_mode": {
    "name": "ipython",
    "version": 3
   },
   "file_extension": ".py",
   "mimetype": "text/x-python",
   "name": "python",
   "nbconvert_exporter": "python",
   "pygments_lexer": "ipython3",
   "version": "3.11.9"
  }
 },
 "nbformat": 4,
 "nbformat_minor": 4
}
